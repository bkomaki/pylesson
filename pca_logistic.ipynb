{
  "nbformat": 4,
  "nbformat_minor": 0,
  "metadata": {
    "colab": {
      "name": "Copy of pca_logistic",
      "private_outputs": true,
      "provenance": [],
      "collapsed_sections": [],
      "authorship_tag": "ABX9TyN039t+lZpXf+9LPYsPFkQP"
    },
    "kernelspec": {
      "name": "python3",
      "display_name": "Python 3"
    },
    "language_info": {
      "name": "python"
    }
  },
  "cells": [
    {
      "cell_type": "markdown",
      "metadata": {
        "id": "bi0UFF1CZK07"
      },
      "source": [
        "\n",
        "**رگرسیون لجستیک**\n",
        "\n",
        "\n",
        "https://aparat.com/v/YzsBF\n",
        "\n",
        "در این مدل از  تحلیل مولفه های اصلی استفاده می کند تا بعد مولفه های عامل (مستقل) کاهش  پیدا کند سپس مدل رگرسیون لجستیک اجرا می شود\n",
        "\n",
        "در این مدول  یک پایپ لاین و گریدسرچ هست \n",
        "\n",
        "  pipeline و GridSearchCV \n",
        "مسئله یافتن بهترین تعدادبهینه مولفه در مدل است\n",
        "\n",
        "*در ابتدا ماژول را فراخوانی کنید!*\n"
      ]
    },
    {
      "cell_type": "code",
      "metadata": {
        "id": "zs6JVW_6ZFBd"
      },
      "source": [
        "import numpy as np\n",
        "import matplotlib.pyplot as plt\n",
        "import pandas as pd\n",
        "\n",
        "from sklearn import datasets\n",
        "from sklearn.decomposition import PCA\n",
        "from sklearn.linear_model import LogisticRegression\n",
        "from sklearn.pipeline import Pipeline\n",
        "from sklearn.model_selection import GridSearchCV"
      ],
      "execution_count": null,
      "outputs": []
    },
    {
      "cell_type": "markdown",
      "metadata": {
        "id": "GoESJkzKbtSt"
      },
      "source": [
        "در ابتدای کار باید تعداد مولفه های اصلی ( عامل/ متغیر مستقل) کاهش بیاید\n",
        "درابتدا باید یک مدل تعریف کنید \n",
        "در اینجا  تحلیل مولفه اصلی  و لجستیک رگرسیون  تعریف شود."
      ]
    },
    {
      "cell_type": "code",
      "metadata": {
        "id": "HyWtR4vLbnWu"
      },
      "source": [
        "# Define a pipeline to search for the best combination of PCA truncation\n",
        "# and classifier regularization.\n",
        "pca = PCA()\n",
        "# set the tolerance to a large value to make the example faster\n",
        "logistic = LogisticRegression(max_iter=10000, tol=0.1)"
      ],
      "execution_count": null,
      "outputs": []
    },
    {
      "cell_type": "markdown",
      "metadata": {
        "id": "-fM9Dg2odzCI"
      },
      "source": [
        "مراحل کاری را تعریف کنید\n",
        "در ابتدا تحلیل مولفه اصلی  اجرا شود بعد مدل رگرسیون"
      ]
    },
    {
      "cell_type": "code",
      "metadata": {
        "id": "tYspNIFTbEw_"
      },
      "source": [
        "pipe = Pipeline(steps=[('pca', pca), ('logistic', logistic)])"
      ],
      "execution_count": null,
      "outputs": []
    },
    {
      "cell_type": "markdown",
      "metadata": {
        "id": "i2_rrWMmek-i"
      },
      "source": [
        "**داده های مثال**\n",
        "\n",
        "دراینجا متغیر X = \n",
        "متغیر مستقل است\n"
      ]
    },
    {
      "cell_type": "code",
      "metadata": {
        "id": "E3R-cj2SeleW"
      },
      "source": [
        "X_digits, y_digits = datasets.load_digits(return_X_y=True)"
      ],
      "execution_count": null,
      "outputs": []
    },
    {
      "cell_type": "markdown",
      "metadata": {
        "id": "6uFldWIjfUIm"
      },
      "source": [
        "نمایش تعداد عامل  64  عدد است\n",
        "تعداد نمونه های ردیف هم 1797 عدد است "
      ]
    },
    {
      "cell_type": "code",
      "metadata": {
        "id": "WPjc2BJMfRpv"
      },
      "source": [
        "print(\"Shape: \",X_digits.shape)\n",
        "#نمونه اول\n",
        "X_digits[0]"
      ],
      "execution_count": null,
      "outputs": []
    },
    {
      "cell_type": "markdown",
      "metadata": {
        "id": "sNW4VD1tgUa2"
      },
      "source": [
        "پارامترها تعریف شود با گذاشتن  علامت \n",
        "__\n",
        "پارامترهای  که بهینه شود\n",
        "\n",
        "  در اینجا **تعداد مولفه  اصلی** با تعداد تعیین شده و  \n",
        "\n",
        "**C** دررگرسیون لجستیک\n",
        " است.\n",
        "\n",
        "  دامنه آن از منفی 4 تا مثبت 4 است"
      ]
    },
    {
      "cell_type": "code",
      "metadata": {
        "id": "qiF8z9szgTHQ"
      },
      "source": [
        "# Parameters of pipelines can be set using ‘__’ separated parameter names:\n",
        "param_grid = {\n",
        "    'pca__n_components': [5, 15, 30, 45, 64],\n",
        "    'logistic__C': np.logspace(-4, 4, 4),\n",
        "}"
      ],
      "execution_count": null,
      "outputs": []
    },
    {
      "cell_type": "markdown",
      "metadata": {
        "id": "9__Gncw-UN6G"
      },
      "source": [
        ""
      ]
    },
    {
      "cell_type": "markdown",
      "metadata": {
        "id": "tZB-axIqhqOR"
      },
      "source": [
        "***وظیفه را برای جستجو پیدا کنید***"
      ]
    },
    {
      "cell_type": "code",
      "metadata": {
        "id": "X_36obsVhqfQ"
      },
      "source": [
        "search = GridSearchCV(pipe, param_grid, n_jobs=-1)\n",
        "search.fit(X_digits, y_digits)"
      ],
      "execution_count": null,
      "outputs": []
    },
    {
      "cell_type": "markdown",
      "metadata": {
        "id": "XZk5s0wqh8L7"
      },
      "source": [
        "\n",
        "\n",
        ">  نتیجه را مشاهده نمایید\n",
        "\n"
      ]
    },
    {
      "cell_type": "code",
      "metadata": {
        "id": "W9_hVDyah8Yt"
      },
      "source": [
        "print(\"Best parameter (CV score=%0.3f):\" % search.best_score_)\n",
        "print(search.best_params_)"
      ],
      "execution_count": null,
      "outputs": []
    },
    {
      "cell_type": "markdown",
      "metadata": {
        "id": "qzxp-enhi7tj"
      },
      "source": [
        "*نمایش نمودار تغییرات*"
      ]
    },
    {
      "cell_type": "code",
      "metadata": {
        "id": "-ekodLOni7_o"
      },
      "source": [
        "# Plot the PCA spectrum\n",
        "pca.fit(X_digits)\n",
        "\n",
        "fig, (ax0, ax1) = plt.subplots(nrows=2, sharex=True, figsize=(6, 6))\n",
        "ax0.plot(np.arange(1, pca.n_components_ + 1),\n",
        "         pca.explained_variance_ratio_, '+', linewidth=2)\n",
        "ax0.set_ylabel('PCA explained variance ratio')\n",
        "\n",
        "ax0.axvline(search.best_estimator_.named_steps['pca'].n_components,\n",
        "            linestyle=':', label='n_components chosen')\n",
        "ax0.legend(prop=dict(size=12))\n",
        "\n",
        "#\n",
        "# For each number of components, find the best classifier results\n",
        "results = pd.DataFrame(search.cv_results_)\n",
        "components_col = 'param_pca__n_components'\n",
        "best_clfs = results.groupby(components_col).apply(\n",
        "    lambda g: g.nlargest(1, 'mean_test_score'))\n",
        "\n",
        "best_clfs.plot(x=components_col, y='mean_test_score', yerr='std_test_score',\n",
        "               legend=False, ax=ax1)\n",
        "ax1.set_ylabel('Classification accuracy (val)')\n",
        "ax1.set_xlabel('n_components')\n",
        "\n",
        "plt.xlim(-1, 70)\n",
        "\n",
        "plt.tight_layout()\n",
        "plt.show()"
      ],
      "execution_count": null,
      "outputs": []
    }
  ]
}
