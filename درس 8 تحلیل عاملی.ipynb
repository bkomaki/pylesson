{
 "cells": [
  {
   "cell_type": "raw",
   "metadata": {},
   "source": [
    "\n",
    "\"\"تحلیل عاملی\"\"\n",
    "تحلیل عاملی روشی است برای تحلیل واریانس بین چند متغیر وابسته براساس توصیف آنها برحسب تعداد اندکی متغیر (عامل) نهان. به عبارت دیگر، تحلیل عاملی میخواهد دادههای پیچیده را با توصیف آنها برحسب تعداد کمتری متغیر ساد سازی کند\n",
    "عارضه متریک هستند\n",
    "عارضه پیوسته یا اردینا هستند\n",
    "ضریب همبستگی بین آنها بیش از 0.3 است\n",
    "بیش از 100 مشاهده وجود دارن برای هر مشاهده بیش از 5 تکرار\n",
    " عارضه ها همگن هستند\n",
    "https://www.spss-iran.com/index_files/Corrolations.htm#_ftn2\n",
    "نکته ۱: معمولاً عاملهایی انتخاب می شوند که بار عاملی آنها بیشتر از 0.4 باشد.\n",
    "http://sdata.ir/%D8%AA%D8%AD%D9%84%DB%8C%D9%84-%D8%B9%D8%A7%D9%85%D9%84%DB%8C-%DA%86%DB%8C%D8%B3%D8%AA%D8%9F-2/\n",
    "نکته2: داده ها هم مقیاس یا استاندارد شود"
   ]
  },
  {
   "cell_type": "code",
   "execution_count": 1,
   "metadata": {},
   "outputs": [],
   "source": [
    "import pandas as pd\n",
    "import numpy as np\n",
    "import  sklearn as sk\n",
    "from sklearn.decomposition import FactorAnalysis\n",
    "from sklearn import datasets\n",
    "from sklearn.preprocessing import scale"
   ]
  },
  {
   "cell_type": "code",
   "execution_count": 2,
   "metadata": {},
   "outputs": [],
   "source": [
    "iris=datasets.load_iris()\n",
    "X=iris.data\n",
    "variables=iris.feature_names\n",
    "x_normal=scale(X)"
   ]
  },
  {
   "cell_type": "code",
   "execution_count": 3,
   "metadata": {},
   "outputs": [
    {
     "data": {
      "text/plain": [
       "['sepal length (cm)',\n",
       " 'sepal width (cm)',\n",
       " 'petal length (cm)',\n",
       " 'petal width (cm)']"
      ]
     },
     "execution_count": 3,
     "metadata": {},
     "output_type": "execute_result"
    }
   ],
   "source": [
    "variables"
   ]
  },
  {
   "cell_type": "code",
   "execution_count": 4,
   "metadata": {},
   "outputs": [
    {
     "data": {
      "text/plain": [
       "array([[-0.90068117,  1.01900435, -1.34022653, -1.3154443 ],\n",
       "       [-1.14301691, -0.13197948, -1.34022653, -1.3154443 ],\n",
       "       [-1.38535265,  0.32841405, -1.39706395, -1.3154443 ],\n",
       "       [-1.50652052,  0.09821729, -1.2833891 , -1.3154443 ],\n",
       "       [-1.02184904,  1.24920112, -1.34022653, -1.3154443 ],\n",
       "       [-0.53717756,  1.93979142, -1.16971425, -1.05217993],\n",
       "       [-1.50652052,  0.78880759, -1.34022653, -1.18381211],\n",
       "       [-1.02184904,  0.78880759, -1.2833891 , -1.3154443 ],\n",
       "       [-1.74885626, -0.36217625, -1.34022653, -1.3154443 ],\n",
       "       [-1.14301691,  0.09821729, -1.2833891 , -1.44707648]])"
      ]
     },
     "execution_count": 4,
     "metadata": {},
     "output_type": "execute_result"
    }
   ],
   "source": [
    "x_normal[:10,]"
   ]
  },
  {
   "cell_type": "code",
   "execution_count": 5,
   "metadata": {},
   "outputs": [],
   "source": [
    "factor=FactorAnalysis().fit(x_normal)"
   ]
  },
  {
   "cell_type": "code",
   "execution_count": 6,
   "metadata": {},
   "outputs": [
    {
     "data": {
      "text/html": [
       "<div>\n",
       "<style scoped>\n",
       "    .dataframe tbody tr th:only-of-type {\n",
       "        vertical-align: middle;\n",
       "    }\n",
       "\n",
       "    .dataframe tbody tr th {\n",
       "        vertical-align: top;\n",
       "    }\n",
       "\n",
       "    .dataframe thead th {\n",
       "        text-align: right;\n",
       "    }\n",
       "</style>\n",
       "<table border=\"1\" class=\"dataframe\">\n",
       "  <thead>\n",
       "    <tr style=\"text-align: right;\">\n",
       "      <th></th>\n",
       "      <th>sepal length (cm)</th>\n",
       "      <th>sepal width (cm)</th>\n",
       "      <th>petal length (cm)</th>\n",
       "      <th>petal width (cm)</th>\n",
       "    </tr>\n",
       "  </thead>\n",
       "  <tbody>\n",
       "    <tr>\n",
       "      <th>0</th>\n",
       "      <td>0.839139</td>\n",
       "      <td>-0.364774</td>\n",
       "      <td>0.920334</td>\n",
       "      <td>0.901935</td>\n",
       "    </tr>\n",
       "    <tr>\n",
       "      <th>1</th>\n",
       "      <td>0.122953</td>\n",
       "      <td>0.339799</td>\n",
       "      <td>-0.019313</td>\n",
       "      <td>-0.009076</td>\n",
       "    </tr>\n",
       "    <tr>\n",
       "      <th>2</th>\n",
       "      <td>-0.000000</td>\n",
       "      <td>0.000000</td>\n",
       "      <td>0.000000</td>\n",
       "      <td>0.000000</td>\n",
       "    </tr>\n",
       "    <tr>\n",
       "      <th>3</th>\n",
       "      <td>-0.000000</td>\n",
       "      <td>0.000000</td>\n",
       "      <td>0.000000</td>\n",
       "      <td>-0.000000</td>\n",
       "    </tr>\n",
       "  </tbody>\n",
       "</table>\n",
       "</div>"
      ],
      "text/plain": [
       "   sepal length (cm)  sepal width (cm)  petal length (cm)  petal width (cm)\n",
       "0           0.839139         -0.364774           0.920334          0.901935\n",
       "1           0.122953          0.339799          -0.019313         -0.009076\n",
       "2          -0.000000          0.000000           0.000000          0.000000\n",
       "3          -0.000000          0.000000           0.000000         -0.000000"
      ]
     },
     "execution_count": 6,
     "metadata": {},
     "output_type": "execute_result"
    }
   ],
   "source": [
    "pd.DataFrame(factor.components_, columns=variables)"
   ]
  },
  {
   "cell_type": "code",
   "execution_count": 7,
   "metadata": {},
   "outputs": [],
   "source": [
    "from sklearn.model_selection import cross_val_score\n",
    "def compute_scores(X):\n",
    "    fa = FactorAnalysis()\n",
    "    fa_scores = []\n",
    "    for n in n_components:\n",
    "        fa.n_components = n\n",
    "        fa_scores.append(np.mean(cross_val_score(fa, X, cv=5)))\n",
    "    return fa_scores\n"
   ]
  },
  {
   "cell_type": "code",
   "execution_count": 8,
   "metadata": {},
   "outputs": [],
   "source": [
    "n_features=5\n",
    "n_components = np.arange(0, n_features, 1)  # options for n_components"
   ]
  },
  {
   "cell_type": "code",
   "execution_count": 9,
   "metadata": {},
   "outputs": [
    {
     "data": {
      "text/plain": [
       "array([0, 1, 2, 3, 4])"
      ]
     },
     "execution_count": 9,
     "metadata": {},
     "output_type": "execute_result"
    }
   ],
   "source": [
    "n_components"
   ]
  },
  {
   "cell_type": "code",
   "execution_count": 10,
   "metadata": {},
   "outputs": [],
   "source": [
    "fa_scores = compute_scores(x_normal)"
   ]
  },
  {
   "cell_type": "code",
   "execution_count": 11,
   "metadata": {},
   "outputs": [
    {
     "data": {
      "text/plain": [
       "[-6.603179776698871,\n",
       " -4.222173765819999,\n",
       " -4.046870110278375,\n",
       " -3.940467972226048,\n",
       " -4.923463738535847]"
      ]
     },
     "execution_count": 11,
     "metadata": {},
     "output_type": "execute_result"
    }
   ],
   "source": [
    "fa_scores"
   ]
  },
  {
   "cell_type": "code",
   "execution_count": 12,
   "metadata": {},
   "outputs": [],
   "source": [
    " n_components_fa = n_components[np.argmax(fa_scores)]"
   ]
  },
  {
   "cell_type": "code",
   "execution_count": 13,
   "metadata": {},
   "outputs": [
    {
     "name": "stdout",
     "output_type": "stream",
     "text": [
      "best n_components by FactorAnalysis CV = 3\n"
     ]
    }
   ],
   "source": [
    "    print(\"best n_components by FactorAnalysis CV = %d\" % n_components_fa)"
   ]
  },
  {
   "cell_type": "code",
   "execution_count": 18,
   "metadata": {},
   "outputs": [
    {
     "data": {
      "text/plain": [
       "Text(0.5,1,'Iris data')"
      ]
     },
     "execution_count": 18,
     "metadata": {},
     "output_type": "execute_result"
    },
    {
     "data": {
      "image/png": "[encoded data removed]",
      "text/plain": [
       "<Figure size 432x288 with 1 Axes>"
      ]
     },
     "metadata": {},
     "output_type": "display_data"
    }
   ],
   "source": [
    "import matplotlib.pyplot as plt\n",
    "plt.plot(n_components, fa_scores, 'r', label='FA scores')\n",
    "plt.axvline(n_components_fa, color='r',\n",
    "                label='FactorAnalysis CV: %d' % n_components_fa,\n",
    "                linestyle='--')\n",
    "plt.xlabel('nb of components')\n",
    "plt.ylabel('CV scores')\n",
    "plt.legend(loc='lower right')\n",
    "plt.title(\"Iris data\")\n"
   ]
  },
  {
   "cell_type": "code",
   "execution_count": 15,
   "metadata": {},
   "outputs": [
    {
     "data": {
      "text/plain": [
       "(150, 3)"
      ]
     },
     "execution_count": 15,
     "metadata": {},
     "output_type": "execute_result"
    }
   ],
   "source": [
    "transformer = FactorAnalysis(n_components=3, random_state=0)\n",
    "X_transformed = transformer.fit_transform(X)\n",
    "x_transformed = transformer.fit_transform(x_normal)\n",
    "\n",
    "X_transformed.shape"
   ]
  },
  {
   "cell_type": "code",
   "execution_count": 16,
   "metadata": {},
   "outputs": [
    {
     "data": {
      "text/plain": [
       "array([[-1.31657584,  0.58376734, -0.0133159 ],\n",
       "       [-1.3265123 , -0.33859389, -0.40743948],\n",
       "       [-1.39569205, -0.29783617,  0.1118703 ],\n",
       "       [-1.33013843, -0.61005254, -0.01994807],\n",
       "       [-1.33237482,  0.59118075,  0.21687299],\n",
       "       [-1.11359959,  1.35692878,  0.52358422],\n",
       "       [-1.34475601, -0.21446649,  0.68007952],\n",
       "       [-1.28860402,  0.29748185, -0.08620226],\n",
       "       [-1.38694019, -1.10483086,  0.01107522],\n",
       "       [-1.32427272, -0.19864391, -0.61918058],\n",
       "       [-1.24706961,  1.20501624, -0.15245645],\n",
       "       [-1.27643118,  0.01860979,  0.07110026],\n",
       "       [-1.37146449, -0.43306763, -0.57420294],\n",
       "       [-1.54773227, -0.98762793,  0.1431794 ],\n",
       "       [-1.3182806 ,  2.19034329, -0.04191463],\n",
       "       [-1.16612225,  2.45762237,  0.92745455],\n",
       "       [-1.26392678,  1.46065231,  0.75931224],\n",
       "       [-1.28432813,  0.55177048,  0.26156482],\n",
       "       [-1.10463938,  1.6344534 , -0.19771992],\n",
       "       [-1.25602983,  0.92749162,  0.56884768],\n",
       "       [-1.16262252,  0.75150245, -0.63653533],\n",
       "       [-1.22068762,  0.76161075,  0.72165678],\n",
       "       [-1.53351991,  0.18902193,  0.88507007],\n",
       "       [-1.10089832,  0.14221609,  0.39038699],\n",
       "       [-1.16368578, -0.05918287, -0.10569576],\n",
       "       [-1.23864423, -0.26398507, -0.63342076],\n",
       "       [-1.1865268 ,  0.20755725,  0.40462717],\n",
       "       [-1.26628957,  0.68430704, -0.18036517],\n",
       "       [-1.30077687,  0.57635392, -0.24350479],\n",
       "       [-1.28294666, -0.37562882, -0.06492572],\n",
       "       [-1.26714768, -0.38304224, -0.29511461],\n",
       "       [-1.1732907 ,  0.7393705 ,  0.03109012],\n",
       "       [-1.31710427,  1.51960796,  0.27718385],\n",
       "       [-1.28741943,  2.02683777,  0.4087164 ],\n",
       "       [-1.292025  , -0.23064077, -0.34429987],\n",
       "       [-1.39516042,  0.10750648, -0.15354949],\n",
       "       [-1.30333974,  1.11558058, -0.38685295],\n",
       "       [-1.377327  ,  0.49670702,  0.05010954],\n",
       "       [-1.42761648, -0.94501596,  0.19207885],\n",
       "       [-1.27589955,  0.42395244, -0.19431953],\n",
       "       [-1.33461441,  0.45123077,  0.42861409],\n",
       "       [-1.36100281, -1.7877303 , -0.49565906],\n",
       "       [-1.43380548, -0.67724794,  0.43622209],\n",
       "       [-1.12512588,  0.27744755,  1.07646023],\n",
       "       [-1.07345493,  0.79177123,  0.60800038],\n",
       "       [-1.30696907, -0.49706134, -0.0244415 ],\n",
       "       [-1.25069574,  0.9335576 ,  0.23503496],\n",
       "       [-1.37081473, -0.45023765,  0.16105556],\n",
       "       [-1.25977409,  1.07854565, -0.04433919],\n",
       "       [-1.32309132,  0.18952873, -0.14934188],\n",
       "       [ 0.56126457,  1.34537506, -1.07994637],\n",
       "       [ 0.44212183,  0.60641643, -0.03849805],\n",
       "       [ 0.6590659 ,  1.00116184, -0.93688402],\n",
       "       [ 0.10322761, -1.54312684, -0.41918868],\n",
       "       [ 0.50478609,  0.1714201 , -0.69383381],\n",
       "       [ 0.30107306, -0.75042003, -0.31972512],\n",
       "       [ 0.53373416,  0.52997122,  0.34870755],\n",
       "       [-0.33590946, -1.89055961, -0.06053158],\n",
       "       [ 0.44990065,  0.49576841, -1.22964089],\n",
       "       [ 0.04740211, -1.39306854,  0.72726233],\n",
       "       [-0.2356634 , -2.35148683, -0.77479935],\n",
       "       [ 0.27204305, -0.21591189,  0.43474105],\n",
       "       [ 0.07310136, -0.94866732, -1.90648878],\n",
       "       [ 0.45620778, -0.19451228, -0.47310585],\n",
       "       [-0.05296209, -0.50962865,  0.44085182],\n",
       "       [ 0.41350024,  0.90987193, -0.70087018],\n",
       "       [ 0.34667501, -0.67311631,  0.58229682],\n",
       "       [ 0.06980171, -0.55811934, -1.13882814],\n",
       "       [ 0.44765786, -0.98536485, -1.04297975],\n",
       "       [ 0.00766587, -1.05896363, -0.77399213],\n",
       "       [ 0.58808797, -0.19971975,  1.14993441],\n",
       "       [ 0.16398198, -0.11488325, -0.45753415],\n",
       "       [ 0.60140603, -0.56096576, -1.02061017],\n",
       "       [ 0.39480685, -0.26440257, -1.14493891],\n",
       "       [ 0.3117463 ,  0.32061988, -0.83661034],\n",
       "       [ 0.40389026,  0.64951733, -0.71482454],\n",
       "       [ 0.58581541,  0.53096696, -1.41093033],\n",
       "       [ 0.73882866,  0.52441205, -0.35189168],\n",
       "       [ 0.40058742, -0.30111796,  0.02775614],\n",
       "       [-0.16529905, -0.66288863, -0.79919047],\n",
       "       [-0.0395259 , -1.29338734, -0.72901448],\n",
       "       [-0.10935541, -1.2354596 , -0.94496319],\n",
       "       [ 0.05913354, -0.57025128, -0.47120269],\n",
       "       [ 0.66451491, -0.75646814, -0.29509842],\n",
       "       [ 0.32126606, -0.9260575 ,  0.79853135],\n",
       "       [ 0.41736264,  0.33630523,  0.91299498],\n",
       "       [ 0.55849335,  0.80008242, -0.60278548],\n",
       "       [ 0.35519061, -0.63508565, -1.51985482],\n",
       "       [ 0.1318524 , -0.50539906,  0.26826341],\n",
       "       [ 0.09703862, -1.27535882, -0.17504543],\n",
       "       [ 0.2120236 , -1.21320149, -0.56358255],\n",
       "       [ 0.41553148, -0.03469739, -0.29210222],\n",
       "       [ 0.09980984, -0.73006618, -0.65220632],\n",
       "       [-0.32011049, -1.89797303, -0.29072047],\n",
       "       [ 0.17871769, -0.93298198, -0.15688346],\n",
       "       [ 0.14989096, -0.3728625 , -0.17366658],\n",
       "       [ 0.18523317, -0.53874337, -0.02085748],\n",
       "       [ 0.28633735,  0.0676787 , -0.62037581],\n",
       "       [-0.39409269, -1.45793862,  0.29698225],\n",
       "       [ 0.15074587, -0.64669649, -0.0839971 ],\n",
       "       [ 1.31252694, -0.09510199,  2.05651794],\n",
       "       [ 0.73584909, -1.1053999 ,  0.74577827],\n",
       "       [ 1.25687359,  0.66892902, -0.21522592],\n",
       "       [ 0.94884376, -0.30293649, -0.12020556],\n",
       "       [ 1.17531265, -0.09596049,  0.7672904 ],\n",
       "       [ 1.58346856,  1.11976579, -1.16833628],\n",
       "       [ 0.3377116 , -2.29182421,  1.278521  ],\n",
       "       [ 1.3389611 ,  0.78025323, -1.61390225],\n",
       "       [ 1.08720325, -0.38445193, -1.15882512],\n",
       "       [ 1.45516552,  1.41885447,  1.39074542],\n",
       "       [ 0.84155565,  0.41731743,  0.87419625],\n",
       "       [ 0.88723955, -0.39843812, -0.02078933],\n",
       "       [ 1.06843297,  0.39324079,  0.3448539 ],\n",
       "       [ 0.72399953, -1.50570448,  0.94356501],\n",
       "       [ 0.89399315, -1.13150018,  2.24225348],\n",
       "       [ 1.0007579 ,  0.1429945 ,  1.68909165],\n",
       "       [ 0.93357641,  0.10981959, -0.15543646],\n",
       "       [ 1.64124656,  2.25938071, -0.08393185],\n",
       "       [ 1.78579185,  0.56891397, -1.39177462],\n",
       "       [ 0.61015789, -1.36796045, -1.12140525],\n",
       "       [ 1.21460747,  0.67162391,  0.91277731],\n",
       "       [ 0.66442976, -1.20459216,  1.47682915],\n",
       "       [ 1.60769612,  0.98453433, -1.85440952],\n",
       "       [ 0.69196017, -0.38918832,  0.04817523],\n",
       "       [ 1.1216086 ,  0.61656046,  0.70132202],\n",
       "       [ 1.20422774,  1.13322732, -0.9627741 ],\n",
       "       [ 0.63857939, -0.35584402,  0.33729613],\n",
       "       [ 0.65726772, -0.24047747,  0.63062463],\n",
       "       [ 1.06138586, -0.40634048,  0.47424771],\n",
       "       [ 1.07075772,  0.98131479, -1.63881477],\n",
       "       [ 1.31184419,  0.79270472, -1.45134641],\n",
       "       [ 1.48941469,  2.65410826, -0.6731318 ],\n",
       "       [ 1.09363358, -0.43833734,  0.74912843],\n",
       "       [ 0.66728613, -0.2111755 , -0.77225931],\n",
       "       [ 0.80372746, -0.82954227, -1.36970877],\n",
       "       [ 1.47275947,  1.31189708, -0.43203208],\n",
       "       [ 1.12685753,  0.17450241,  2.13943687],\n",
       "       [ 0.91777744,  0.11723301,  0.07475243],\n",
       "       [ 0.60698145, -0.34101718,  0.7976739 ],\n",
       "       [ 1.04046115,  0.67952627,  0.41774026],\n",
       "       [ 1.18695893,  0.27873275,  1.34075294],\n",
       "       [ 0.99221118,  0.69332521,  1.14429772],\n",
       "       [ 0.73584909, -1.1053999 ,  0.74577827],\n",
       "       [ 1.27706659,  0.49329155,  0.90303056],\n",
       "       [ 1.25059944,  0.48857303,  1.8008449 ],\n",
       "       [ 1.00747853,  0.28056913,  1.17952862],\n",
       "       [ 0.76797867, -0.71488408,  0.0199807 ],\n",
       "       [ 0.88532644,  0.12361852,  0.57112099],\n",
       "       [ 1.00674175,  0.13189045,  2.09053742],\n",
       "       [ 0.70702236, -0.54528042,  0.72899515]])"
      ]
     },
     "execution_count": 16,
     "metadata": {},
     "output_type": "execute_result"
    }
   ],
   "source": [
    "X_transformed"
   ]
  },
  {
   "cell_type": "code",
   "execution_count": 17,
   "metadata": {},
   "outputs": [
    {
     "data": {
      "text/plain": [
       "array([[-1.3166042 ,  0.58360053, -0.01443531],\n",
       "       [-1.32647557, -0.33983939, -0.40748814],\n",
       "       [-1.39568915, -0.29771026,  0.11204791],\n",
       "       [-1.33005713, -0.60989029, -0.01868632],\n",
       "       [-1.33240495,  0.5917111 ,  0.21603149],\n",
       "       [-1.11373439,  1.35796212,  0.52123133],\n",
       "       [-1.34480139, -0.21289229,  0.68035429],\n",
       "       [-1.28858426,  0.29732851, -0.08656708],\n",
       "       [-1.38685349, -1.10471033,  0.01285748],\n",
       "       [-1.32414852, -0.19988822, -0.6185365 ],\n",
       "       [-1.2471114 ,  1.2045473 , -0.15444784],\n",
       "       [-1.27636507,  0.01916704,  0.07176794],\n",
       "       [-1.37135274, -0.43434424, -0.57346338],\n",
       "       [-1.5476712 , -0.98725387,  0.14468766],\n",
       "       [-1.31847477,  2.18949012, -0.04652126],\n",
       "       [-1.16639074,  2.45934479,  0.92302032],\n",
       "       [-1.26418271,  1.46159414,  0.75564113],\n",
       "       [-1.28442348,  0.55197865,  0.26000867],\n",
       "       [-1.10472148,  1.63372689, -0.20061692],\n",
       "       [-1.25612431,  0.92878253,  0.5674004 ],\n",
       "       [-1.16257433,  0.75001941, -0.63764693],\n",
       "       [-1.22083928,  0.76292335,  0.71984632],\n",
       "       [-1.53363905,  0.19083621,  0.88431624],\n",
       "       [-1.10101717,  0.14253628,  0.38909314],\n",
       "       [-1.16352883, -0.05855698, -0.10403941],\n",
       "       [-1.23855497, -0.26552868, -0.63316178],\n",
       "       [-1.18661073,  0.20817673,  0.40371842],\n",
       "       [-1.26629568,  0.68381926, -0.18150649],\n",
       "       [-1.30080346,  0.57548997, -0.2449021 ],\n",
       "       [-1.28285291, -0.37543428, -0.06375944],\n",
       "       [-1.26705216, -0.38354484, -0.29422624],\n",
       "       [-1.17343703,  0.73859166,  0.02844592],\n",
       "       [-1.31710223,  1.52086491,  0.2760379 ],\n",
       "       [-1.28754855,  2.02776851,  0.40567618],\n",
       "       [-1.2919678 , -0.23151011, -0.34409253],\n",
       "       [-1.3952119 ,  0.10657793, -0.15475585],\n",
       "       [-1.30343051,  1.11401546, -0.3897078 ],\n",
       "       [-1.37728212,  0.49720625,  0.05005625],\n",
       "       [-1.42756987, -0.94456503,  0.193458  ],\n",
       "       [-1.27588782,  0.42345523, -0.19503582],\n",
       "       [-1.334732  ,  0.45175993,  0.42707986],\n",
       "       [-1.36096257, -1.78972125, -0.4945532 ],\n",
       "       [-1.43377848, -0.67609044,  0.43745412],\n",
       "       [-1.12535358,  0.27917026,  1.07460443],\n",
       "       [-1.07349526,  0.79352862,  0.60743458],\n",
       "       [-1.30699129, -0.49758801, -0.02457543],\n",
       "       [-1.25069295,  0.93449641,  0.23435398],\n",
       "       [-1.37077351, -0.44974499,  0.16191419],\n",
       "       [-1.25980784,  1.07842057, -0.04597911],\n",
       "       [-1.32309204,  0.18899922, -0.14996269],\n",
       "       [ 0.56130852,  1.34286971, -1.08188866],\n",
       "       [ 0.44208642,  0.60630347, -0.03942737],\n",
       "       [ 0.65912126,  0.99906779, -0.93817892],\n",
       "       [ 0.1033353 , -1.54418895, -0.41706698],\n",
       "       [ 0.50481216,  0.16957301, -0.6944908 ],\n",
       "       [ 0.30126707, -0.75028905, -0.3170264 ],\n",
       "       [ 0.53369056,  0.53097614,  0.34827851],\n",
       "       [-0.33577441, -1.89049034, -0.05737127],\n",
       "       [ 0.45004284,  0.4931808 , -1.22984942],\n",
       "       [ 0.0473974 , -1.39133383,  0.7293779 ],\n",
       "       [-0.23543659, -2.3531288 , -0.77103716],\n",
       "       [ 0.27197657, -0.21508075,  0.43472755],\n",
       "       [ 0.07337964, -0.95292695, -1.90474065],\n",
       "       [ 0.45635343, -0.19498273, -0.47166422],\n",
       "       [-0.0530424 , -0.50900643,  0.44086245],\n",
       "       [ 0.41348725,  0.90797625, -0.70267316],\n",
       "       [ 0.34672347, -0.67118495,  0.58432641],\n",
       "       [ 0.07007732, -0.55990194, -1.13641532],\n",
       "       [ 0.44773657, -0.98832294, -1.04247051],\n",
       "       [ 0.0078496 , -1.06043586, -0.7718251 ],\n",
       "       [ 0.58798262, -0.19691984,  1.15044089],\n",
       "       [ 0.16399245, -0.1162421 , -0.4578891 ],\n",
       "       [ 0.60156842, -0.56311635, -1.01935486],\n",
       "       [ 0.39509628, -0.26597626, -1.14255023],\n",
       "       [ 0.31181372,  0.31865136, -0.8371046 ],\n",
       "       [ 0.40389511,  0.64761222, -0.71620249],\n",
       "       [ 0.58594492,  0.52775907, -1.41154589],\n",
       "       [ 0.73880622,  0.52342527, -0.352954  ],\n",
       "       [ 0.40061355, -0.30091533,  0.0284534 ],\n",
       "       [-0.1651873 , -0.66481793, -0.79832995],\n",
       "       [-0.03935462, -1.29489188, -0.72675197],\n",
       "       [-0.10914742, -1.23736199, -0.9425935 ],\n",
       "       [ 0.05921461, -0.5713297 , -0.47032247],\n",
       "       [ 0.66467537, -0.75645984, -0.29271345],\n",
       "       [ 0.32133059, -0.92343841,  0.80126388],\n",
       "       [ 0.41727276,  0.33864926,  0.91288768],\n",
       "       [ 0.55850422,  0.79863035, -0.60403654],\n",
       "       [ 0.35535518, -0.63880714, -1.51922668],\n",
       "       [ 0.1319137 , -0.50430916,  0.26984826],\n",
       "       [ 0.09712669, -1.27571436, -0.17307086],\n",
       "       [ 0.21228998, -1.21348721, -0.55992658],\n",
       "       [ 0.41563705, -0.03483743, -0.2910637 ],\n",
       "       [ 0.099931  , -0.731475  , -0.65092299],\n",
       "       [-0.31997366, -1.8986009 , -0.28783807],\n",
       "       [ 0.17883869, -0.93292905, -0.15474838],\n",
       "       [ 0.1500415 , -0.37246856, -0.1716669 ],\n",
       "       [ 0.18532653, -0.53832774, -0.01922099],\n",
       "       [ 0.28642083,  0.0663979 , -0.62016713],\n",
       "       [-0.39414134, -1.45789745,  0.29794064],\n",
       "       [ 0.15081875, -0.64665702, -0.0826166 ],\n",
       "       [ 1.31227415, -0.09042489,  2.05644242],\n",
       "       [ 0.73582466, -1.10357895,  0.74755594],\n",
       "       [ 1.25682362,  0.6682726 , -0.21647511],\n",
       "       [ 0.94897795, -0.30238886, -0.11824785],\n",
       "       [ 1.1752136 , -0.09420165,  0.76738374],\n",
       "       [ 1.5835904 ,  1.1175502 , -1.16903595],\n",
       "       [ 0.33773134, -2.28850229,  1.28250521],\n",
       "       [ 1.33922695,  0.77752239, -1.61315237],\n",
       "       [ 1.0874051 , -0.38664714, -1.15731994],\n",
       "       [ 1.45484131,  1.42151955,  1.38761552],\n",
       "       [ 0.84135898,  0.41887275,  0.87270907],\n",
       "       [ 0.88722749, -0.39863459, -0.02046138],\n",
       "       [ 1.06828597,  0.39352444,  0.3433409 ],\n",
       "       [ 0.72390548, -1.50389414,  0.94507498],\n",
       "       [ 0.893624  , -1.12745106,  2.24177388],\n",
       "       [ 1.00042888,  0.14606436,  1.68730482],\n",
       "       [ 0.93365445,  0.1100099 , -0.15458481],\n",
       "       [ 1.64124522,  2.2600454 , -0.08567867],\n",
       "       [ 1.78590176,  0.56575997, -1.39241633],\n",
       "       [ 0.61040408, -1.37011642, -1.11854529],\n",
       "       [ 1.21435942,  0.67306598,  0.91055134],\n",
       "       [ 0.66428404, -1.20140098,  1.47814035],\n",
       "       [ 1.60792681,  0.98091622, -1.85454723],\n",
       "       [ 0.691902  , -0.38950741,  0.04797318],\n",
       "       [ 1.12150077,  0.61829358,  0.70059892],\n",
       "       [ 1.20438136,  1.13183156, -0.9628821 ],\n",
       "       [ 0.63848917, -0.35548884,  0.33704243],\n",
       "       [ 0.6571962 , -0.23904898,  0.63090484],\n",
       "       [ 1.06132088, -0.40536507,  0.47461728],\n",
       "       [ 1.07100435,  0.97841675, -1.63856127],\n",
       "       [ 1.31198427,  0.78960595, -1.45197029],\n",
       "       [ 1.48944042,  2.65326664, -0.67569674],\n",
       "       [ 1.09350161, -0.43698696,  0.74906125],\n",
       "       [ 0.66747967, -0.21222048, -0.77056558],\n",
       "       [ 0.80417506, -0.83086667, -1.36508045],\n",
       "       [ 1.4725879 ,  1.30997319, -0.43560448],\n",
       "       [ 1.1265408 ,  0.17906632,  2.13840631],\n",
       "       [ 0.91785371,  0.11812046,  0.07588199],\n",
       "       [ 0.60688767, -0.3392677 ,  0.79797603],\n",
       "       [ 1.04026603,  0.67979647,  0.41547268],\n",
       "       [ 1.18663948,  0.28086135,  1.33853718],\n",
       "       [ 0.99179124,  0.69427672,  1.14016798],\n",
       "       [ 0.73582466, -1.10357895,  0.74755594],\n",
       "       [ 1.27688714,  0.49512324,  0.90181517],\n",
       "       [ 1.25022368,  0.49180605,  1.79837482],\n",
       "       [ 1.00711474,  0.28187796,  1.17650494],\n",
       "       [ 0.76790341, -0.71551188,  0.01981858],\n",
       "       [ 0.88517967,  0.12449015,  0.57011049],\n",
       "       [ 1.00643946,  0.13637748,  2.08963597],\n",
       "       [ 0.70702747, -0.54311845,  0.73063742]])"
      ]
     },
     "execution_count": 17,
     "metadata": {},
     "output_type": "execute_result"
    }
   ],
   "source": [
    "x_transformed"
   ]
  },
  {
   "cell_type": "code",
   "execution_count": null,
   "metadata": {},
   "outputs": [],
   "source": []
  },
  {
   "cell_type": "code",
   "execution_count": null,
   "metadata": {},
   "outputs": [],
   "source": []
  },
  {
   "cell_type": "code",
   "execution_count": null,
   "metadata": {},
   "outputs": [],
   "source": []
  }
 ],
 "metadata": {
  "kernelspec": {
   "display_name": "Python 3",
   "language": "python",
   "name": "python3"
  },
  "language_info": {
   "codemirror_mode": {
    "name": "ipython",
    "version": 3
   },
   "file_extension": ".py",
   "mimetype": "text/x-python",
   "name": "python",
   "nbconvert_exporter": "python",
   "pygments_lexer": "ipython3",
   "version": "3.6.5"
  }
 },
 "nbformat": 4,
 "nbformat_minor": 2
}
