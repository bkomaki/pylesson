{
  "nbformat": 4,
  "nbformat_minor": 0,
  "metadata": {
    "colab": {
      "name": "datal_learning.ipynb",
      "provenance": [],
      "collapsed_sections": [],
      "toc_visible": true,
      "include_colab_link": true
    },
    "kernelspec": {
      "display_name": "Python 3",
      "name": "python3"
    },
    "language_info": {
      "name": "python"
    }
  },
  "cells": [
    {
      "cell_type": "markdown",
      "metadata": {
        "id": "view-in-github",
        "colab_type": "text"
      },
      "source": [
        "<a href=\"https://colab.research.google.com/github/bkomaki/pylesson/blob/master/datal_learning.ipynb\" target=\"_parent\"><img src=\"https://colab.research.google.com/assets/colab-badge.svg\" alt=\"Open In Colab\"/></a>"
      ]
    },
    {
      "cell_type": "markdown",
      "metadata": {
        "id": "c1FbngAue2w_"
      },
      "source": [
        "**شروع داده کاوی**"
      ]
    },
    {
      "cell_type": "code",
      "metadata": {
        "id": "bl9aV5gSlyLX"
      },
      "source": [
        "from sklearn.ensemble import RandomForestClassifier"
      ],
      "execution_count": null,
      "outputs": []
    },
    {
      "cell_type": "code",
      "metadata": {
        "id": "KcdLMMgUmQbR"
      },
      "source": [
        "clf = RandomForestClassifier(random_state=0)"
      ],
      "execution_count": null,
      "outputs": []
    },
    {
      "cell_type": "code",
      "metadata": {
        "id": "GJkVXxZLnIB0"
      },
      "source": [
        "X = [[ 1,  2,  3], \n",
        "     [11, 12, 13]]"
      ],
      "execution_count": null,
      "outputs": []
    },
    {
      "cell_type": "code",
      "metadata": {
        "id": "dvmSEbNcnW19"
      },
      "source": [
        "y = [0, 1]  # classes of each sample\n"
      ],
      "execution_count": null,
      "outputs": []
    },
    {
      "cell_type": "code",
      "metadata": {
        "colab": {
          "base_uri": "https://localhost:8080/"
        },
        "id": "jKejq2UQnre-",
        "outputId": "14a2fbde-f78c-4349-8126-fccbfbcd1592"
      },
      "source": [
        " clf.fit(X, y)"
      ],
      "execution_count": null,
      "outputs": [
        {
          "output_type": "execute_result",
          "data": {
            "text/plain": [
              "RandomForestClassifier(bootstrap=True, ccp_alpha=0.0, class_weight=None,\n",
              "                       criterion='gini', max_depth=None, max_features='auto',\n",
              "                       max_leaf_nodes=None, max_samples=None,\n",
              "                       min_impurity_decrease=0.0, min_impurity_split=None,\n",
              "                       min_samples_leaf=1, min_samples_split=2,\n",
              "                       min_weight_fraction_leaf=0.0, n_estimators=100,\n",
              "                       n_jobs=None, oob_score=False, random_state=0, verbose=0,\n",
              "                       warm_start=False)"
            ]
          },
          "metadata": {
            "tags": []
          },
          "execution_count": 49
        }
      ]
    },
    {
      "cell_type": "code",
      "metadata": {
        "colab": {
          "base_uri": "https://localhost:8080/"
        },
        "id": "pIFIC3pKoIGu",
        "outputId": "d8c23dfd-f045-419d-ebdf-ac93718b89f5"
      },
      "source": [
        "clf.predict(X)"
      ],
      "execution_count": null,
      "outputs": [
        {
          "output_type": "execute_result",
          "data": {
            "text/plain": [
              "array([0, 1])"
            ]
          },
          "metadata": {
            "tags": []
          },
          "execution_count": 50
        }
      ]
    },
    {
      "cell_type": "markdown",
      "metadata": {
        "id": "Y1GQHF5jrXC9"
      },
      "source": [
        "**تبدیل و و پیش پردازش داده**"
      ]
    },
    {
      "cell_type": "code",
      "metadata": {
        "id": "LTPwsDBcpGaN"
      },
      "source": [
        "from sklearn.preprocessing import StandardScaler"
      ],
      "execution_count": null,
      "outputs": []
    },
    {
      "cell_type": "code",
      "metadata": {
        "id": "pHiY4WD6pK7V"
      },
      "source": [
        "X = [[0, 15],\n",
        "    [1, -10]]"
      ],
      "execution_count": null,
      "outputs": []
    },
    {
      "cell_type": "code",
      "metadata": {
        "colab": {
          "base_uri": "https://localhost:8080/"
        },
        "id": "TZRK12LUpQmx",
        "outputId": "1ceb139a-e761-4bbd-a4ac-9ac073926774"
      },
      "source": [
        "StandardScaler().fit(X).transform(X)\n"
      ],
      "execution_count": null,
      "outputs": [
        {
          "output_type": "execute_result",
          "data": {
            "text/plain": [
              "array([[-1.,  1.],\n",
              "       [ 1., -1.]])"
            ]
          },
          "metadata": {
            "tags": []
          },
          "execution_count": 55
        }
      ]
    },
    {
      "cell_type": "markdown",
      "metadata": {
        "id": "wxlbQ5EzsFLg"
      },
      "source": [
        "**تخمینگرهاو پیش پردارش=پایپ لاین**"
      ]
    },
    {
      "cell_type": "code",
      "metadata": {
        "id": "VuxmUSQtqHq-"
      },
      "source": [
        "from sklearn.preprocessing import StandardScaler\n",
        "from sklearn.linear_model import LogisticRegression\n",
        "from sklearn.pipeline import make_pipeline\n",
        "from sklearn.datasets import load_iris\n",
        "from sklearn.model_selection import train_test_split\n",
        "from sklearn.metrics import accuracy_score\n"
      ],
      "execution_count": null,
      "outputs": []
    },
    {
      "cell_type": "code",
      "metadata": {
        "id": "F9CxANoIqy1O"
      },
      "source": [
        "pipe = make_pipeline(\n",
        "     StandardScaler(),\n",
        "     LogisticRegression()\n",
        " )"
      ],
      "execution_count": null,
      "outputs": []
    },
    {
      "cell_type": "code",
      "metadata": {
        "id": "Vg4p1BJjrGFr"
      },
      "source": [
        "X, y = load_iris(return_X_y=True)\n",
        "X_train, X_test, y_train, y_test = train_test_split(X, y, random_state=0)"
      ],
      "execution_count": null,
      "outputs": []
    },
    {
      "cell_type": "code",
      "metadata": {
        "colab": {
          "base_uri": "https://localhost:8080/"
        },
        "id": "N8h62uiasXYZ",
        "outputId": "e52f36bc-7a21-40ff-bfda-1c9c11a32f9e"
      },
      "source": [
        "print(list(zip(X,y)))"
      ],
      "execution_count": null,
      "outputs": [
        {
          "output_type": "stream",
          "text": [
            "[(array([5.1, 3.5, 1.4, 0.2]), 0), (array([4.9, 3. , 1.4, 0.2]), 0), (array([4.7, 3.2, 1.3, 0.2]), 0), (array([4.6, 3.1, 1.5, 0.2]), 0), (array([5. , 3.6, 1.4, 0.2]), 0), (array([5.4, 3.9, 1.7, 0.4]), 0), (array([4.6, 3.4, 1.4, 0.3]), 0), (array([5. , 3.4, 1.5, 0.2]), 0), (array([4.4, 2.9, 1.4, 0.2]), 0), (array([4.9, 3.1, 1.5, 0.1]), 0), (array([5.4, 3.7, 1.5, 0.2]), 0), (array([4.8, 3.4, 1.6, 0.2]), 0), (array([4.8, 3. , 1.4, 0.1]), 0), (array([4.3, 3. , 1.1, 0.1]), 0), (array([5.8, 4. , 1.2, 0.2]), 0), (array([5.7, 4.4, 1.5, 0.4]), 0), (array([5.4, 3.9, 1.3, 0.4]), 0), (array([5.1, 3.5, 1.4, 0.3]), 0), (array([5.7, 3.8, 1.7, 0.3]), 0), (array([5.1, 3.8, 1.5, 0.3]), 0), (array([5.4, 3.4, 1.7, 0.2]), 0), (array([5.1, 3.7, 1.5, 0.4]), 0), (array([4.6, 3.6, 1. , 0.2]), 0), (array([5.1, 3.3, 1.7, 0.5]), 0), (array([4.8, 3.4, 1.9, 0.2]), 0), (array([5. , 3. , 1.6, 0.2]), 0), (array([5. , 3.4, 1.6, 0.4]), 0), (array([5.2, 3.5, 1.5, 0.2]), 0), (array([5.2, 3.4, 1.4, 0.2]), 0), (array([4.7, 3.2, 1.6, 0.2]), 0), (array([4.8, 3.1, 1.6, 0.2]), 0), (array([5.4, 3.4, 1.5, 0.4]), 0), (array([5.2, 4.1, 1.5, 0.1]), 0), (array([5.5, 4.2, 1.4, 0.2]), 0), (array([4.9, 3.1, 1.5, 0.2]), 0), (array([5. , 3.2, 1.2, 0.2]), 0), (array([5.5, 3.5, 1.3, 0.2]), 0), (array([4.9, 3.6, 1.4, 0.1]), 0), (array([4.4, 3. , 1.3, 0.2]), 0), (array([5.1, 3.4, 1.5, 0.2]), 0), (array([5. , 3.5, 1.3, 0.3]), 0), (array([4.5, 2.3, 1.3, 0.3]), 0), (array([4.4, 3.2, 1.3, 0.2]), 0), (array([5. , 3.5, 1.6, 0.6]), 0), (array([5.1, 3.8, 1.9, 0.4]), 0), (array([4.8, 3. , 1.4, 0.3]), 0), (array([5.1, 3.8, 1.6, 0.2]), 0), (array([4.6, 3.2, 1.4, 0.2]), 0), (array([5.3, 3.7, 1.5, 0.2]), 0), (array([5. , 3.3, 1.4, 0.2]), 0), (array([7. , 3.2, 4.7, 1.4]), 1), (array([6.4, 3.2, 4.5, 1.5]), 1), (array([6.9, 3.1, 4.9, 1.5]), 1), (array([5.5, 2.3, 4. , 1.3]), 1), (array([6.5, 2.8, 4.6, 1.5]), 1), (array([5.7, 2.8, 4.5, 1.3]), 1), (array([6.3, 3.3, 4.7, 1.6]), 1), (array([4.9, 2.4, 3.3, 1. ]), 1), (array([6.6, 2.9, 4.6, 1.3]), 1), (array([5.2, 2.7, 3.9, 1.4]), 1), (array([5. , 2. , 3.5, 1. ]), 1), (array([5.9, 3. , 4.2, 1.5]), 1), (array([6. , 2.2, 4. , 1. ]), 1), (array([6.1, 2.9, 4.7, 1.4]), 1), (array([5.6, 2.9, 3.6, 1.3]), 1), (array([6.7, 3.1, 4.4, 1.4]), 1), (array([5.6, 3. , 4.5, 1.5]), 1), (array([5.8, 2.7, 4.1, 1. ]), 1), (array([6.2, 2.2, 4.5, 1.5]), 1), (array([5.6, 2.5, 3.9, 1.1]), 1), (array([5.9, 3.2, 4.8, 1.8]), 1), (array([6.1, 2.8, 4. , 1.3]), 1), (array([6.3, 2.5, 4.9, 1.5]), 1), (array([6.1, 2.8, 4.7, 1.2]), 1), (array([6.4, 2.9, 4.3, 1.3]), 1), (array([6.6, 3. , 4.4, 1.4]), 1), (array([6.8, 2.8, 4.8, 1.4]), 1), (array([6.7, 3. , 5. , 1.7]), 1), (array([6. , 2.9, 4.5, 1.5]), 1), (array([5.7, 2.6, 3.5, 1. ]), 1), (array([5.5, 2.4, 3.8, 1.1]), 1), (array([5.5, 2.4, 3.7, 1. ]), 1), (array([5.8, 2.7, 3.9, 1.2]), 1), (array([6. , 2.7, 5.1, 1.6]), 1), (array([5.4, 3. , 4.5, 1.5]), 1), (array([6. , 3.4, 4.5, 1.6]), 1), (array([6.7, 3.1, 4.7, 1.5]), 1), (array([6.3, 2.3, 4.4, 1.3]), 1), (array([5.6, 3. , 4.1, 1.3]), 1), (array([5.5, 2.5, 4. , 1.3]), 1), (array([5.5, 2.6, 4.4, 1.2]), 1), (array([6.1, 3. , 4.6, 1.4]), 1), (array([5.8, 2.6, 4. , 1.2]), 1), (array([5. , 2.3, 3.3, 1. ]), 1), (array([5.6, 2.7, 4.2, 1.3]), 1), (array([5.7, 3. , 4.2, 1.2]), 1), (array([5.7, 2.9, 4.2, 1.3]), 1), (array([6.2, 2.9, 4.3, 1.3]), 1), (array([5.1, 2.5, 3. , 1.1]), 1), (array([5.7, 2.8, 4.1, 1.3]), 1), (array([6.3, 3.3, 6. , 2.5]), 2), (array([5.8, 2.7, 5.1, 1.9]), 2), (array([7.1, 3. , 5.9, 2.1]), 2), (array([6.3, 2.9, 5.6, 1.8]), 2), (array([6.5, 3. , 5.8, 2.2]), 2), (array([7.6, 3. , 6.6, 2.1]), 2), (array([4.9, 2.5, 4.5, 1.7]), 2), (array([7.3, 2.9, 6.3, 1.8]), 2), (array([6.7, 2.5, 5.8, 1.8]), 2), (array([7.2, 3.6, 6.1, 2.5]), 2), (array([6.5, 3.2, 5.1, 2. ]), 2), (array([6.4, 2.7, 5.3, 1.9]), 2), (array([6.8, 3. , 5.5, 2.1]), 2), (array([5.7, 2.5, 5. , 2. ]), 2), (array([5.8, 2.8, 5.1, 2.4]), 2), (array([6.4, 3.2, 5.3, 2.3]), 2), (array([6.5, 3. , 5.5, 1.8]), 2), (array([7.7, 3.8, 6.7, 2.2]), 2), (array([7.7, 2.6, 6.9, 2.3]), 2), (array([6. , 2.2, 5. , 1.5]), 2), (array([6.9, 3.2, 5.7, 2.3]), 2), (array([5.6, 2.8, 4.9, 2. ]), 2), (array([7.7, 2.8, 6.7, 2. ]), 2), (array([6.3, 2.7, 4.9, 1.8]), 2), (array([6.7, 3.3, 5.7, 2.1]), 2), (array([7.2, 3.2, 6. , 1.8]), 2), (array([6.2, 2.8, 4.8, 1.8]), 2), (array([6.1, 3. , 4.9, 1.8]), 2), (array([6.4, 2.8, 5.6, 2.1]), 2), (array([7.2, 3. , 5.8, 1.6]), 2), (array([7.4, 2.8, 6.1, 1.9]), 2), (array([7.9, 3.8, 6.4, 2. ]), 2), (array([6.4, 2.8, 5.6, 2.2]), 2), (array([6.3, 2.8, 5.1, 1.5]), 2), (array([6.1, 2.6, 5.6, 1.4]), 2), (array([7.7, 3. , 6.1, 2.3]), 2), (array([6.3, 3.4, 5.6, 2.4]), 2), (array([6.4, 3.1, 5.5, 1.8]), 2), (array([6. , 3. , 4.8, 1.8]), 2), (array([6.9, 3.1, 5.4, 2.1]), 2), (array([6.7, 3.1, 5.6, 2.4]), 2), (array([6.9, 3.1, 5.1, 2.3]), 2), (array([5.8, 2.7, 5.1, 1.9]), 2), (array([6.8, 3.2, 5.9, 2.3]), 2), (array([6.7, 3.3, 5.7, 2.5]), 2), (array([6.7, 3. , 5.2, 2.3]), 2), (array([6.3, 2.5, 5. , 1.9]), 2), (array([6.5, 3. , 5.2, 2. ]), 2), (array([6.2, 3.4, 5.4, 2.3]), 2), (array([5.9, 3. , 5.1, 1.8]), 2)]\n"
          ],
          "name": "stdout"
        }
      ]
    },
    {
      "cell_type": "code",
      "metadata": {
        "colab": {
          "base_uri": "https://localhost:8080/"
        },
        "id": "rqnu8NYBQEvy",
        "outputId": "07402a04-96dc-4a6c-a30f-78b8bb5c5b58"
      },
      "source": [
        "pipe.fit(X_train, y_train)"
      ],
      "execution_count": null,
      "outputs": [
        {
          "output_type": "execute_result",
          "data": {
            "text/plain": [
              "Pipeline(memory=None,\n",
              "         steps=[('standardscaler',\n",
              "                 StandardScaler(copy=True, with_mean=True, with_std=True)),\n",
              "                ('logisticregression',\n",
              "                 LogisticRegression(C=1.0, class_weight=None, dual=False,\n",
              "                                    fit_intercept=True, intercept_scaling=1,\n",
              "                                    l1_ratio=None, max_iter=100,\n",
              "                                    multi_class='auto', n_jobs=None,\n",
              "                                    penalty='l2', random_state=None,\n",
              "                                    solver='lbfgs', tol=0.0001, verbose=0,\n",
              "                                    warm_start=False))],\n",
              "         verbose=False)"
            ]
          },
          "metadata": {
            "tags": []
          },
          "execution_count": 60
        }
      ]
    },
    {
      "cell_type": "code",
      "metadata": {
        "colab": {
          "base_uri": "https://localhost:8080/"
        },
        "id": "nQPiGYJ_QUDO",
        "outputId": "90333d56-10e2-4fbf-f437-14ca5c6ac7bd"
      },
      "source": [
        "accuracy_score(pipe.predict(X_test), y_test)"
      ],
      "execution_count": null,
      "outputs": [
        {
          "output_type": "execute_result",
          "data": {
            "text/plain": [
              "0.9736842105263158"
            ]
          },
          "metadata": {
            "tags": []
          },
          "execution_count": 61
        }
      ]
    },
    {
      "cell_type": "markdown",
      "metadata": {
        "id": "wh5tKu6Ws04M"
      },
      "source": [
        "# **انتخاب مدل**"
      ]
    },
    {
      "cell_type": "code",
      "metadata": {
        "id": "aXxZxDAjQcrN"
      },
      "source": [
        "#Model evaluation\n",
        "from sklearn.datasets import make_regression\n",
        "from sklearn.linear_model import LinearRegression\n",
        "from sklearn.model_selection import cross_validate"
      ],
      "execution_count": null,
      "outputs": []
    },
    {
      "cell_type": "code",
      "metadata": {
        "id": "YuQnK16bRN60"
      },
      "source": [
        " X, y = make_regression(n_samples=1000, random_state=0)\n",
        " lr = LinearRegression()"
      ],
      "execution_count": null,
      "outputs": []
    },
    {
      "cell_type": "code",
      "metadata": {
        "id": "rbwalqzb0j7h"
      },
      "source": [
        "result = cross_validate(lr, X, y)  # defaults to 5-fold CV\n"
      ],
      "execution_count": null,
      "outputs": []
    },
    {
      "cell_type": "code",
      "metadata": {
        "colab": {
          "base_uri": "https://localhost:8080/"
        },
        "id": "Ltj2cAPT0sy4",
        "outputId": "0431c2b4-3a03-4d75-ed77-4ab07484a904"
      },
      "source": [
        "result['test_score']"
      ],
      "execution_count": null,
      "outputs": [
        {
          "output_type": "execute_result",
          "data": {
            "text/plain": [
              "array([1., 1., 1., 1., 1.])"
            ]
          },
          "metadata": {
            "tags": []
          },
          "execution_count": 68
        }
      ]
    },
    {
      "cell_type": "markdown",
      "metadata": {
        "id": "UhhG3VJB18Rg"
      },
      "source": [
        "# جستجوی خودکار پارامترها"
      ]
    },
    {
      "cell_type": "code",
      "metadata": {
        "id": "5UfWha6L0t5M"
      },
      "source": [
        "from sklearn.datasets import fetch_california_housing\n",
        "from sklearn.ensemble import RandomForestRegressor\n",
        "from sklearn.model_selection import RandomizedSearchCV\n",
        "from sklearn.model_selection import train_test_split\n",
        "from scipy.stats import randint\n"
      ],
      "execution_count": null,
      "outputs": []
    },
    {
      "cell_type": "code",
      "metadata": {
        "id": "hZOVxW-k1AJP"
      },
      "source": [
        "X, y = fetch_california_housing(return_X_y=True)\n",
        "X_train, X_test, y_train, y_test = train_test_split(X, y, random_state=0)"
      ],
      "execution_count": null,
      "outputs": []
    },
    {
      "cell_type": "code",
      "metadata": {
        "id": "J-YIfgKh1dg5"
      },
      "source": [
        "param_distributions = {'n_estimators': randint(1, 5),'max_depth': randint(5, 10)}"
      ],
      "execution_count": null,
      "outputs": []
    },
    {
      "cell_type": "code",
      "metadata": {
        "id": "-GwW-4Rz1ilr"
      },
      "source": [
        "search = RandomizedSearchCV(estimator=RandomForestRegressor(random_state=0),\n",
        "                            n_iter=5,\n",
        "                            param_distributions=param_distributions,\n",
        "                            random_state=0)"
      ],
      "execution_count": null,
      "outputs": []
    },
    {
      "cell_type": "code",
      "metadata": {
        "colab": {
          "base_uri": "https://localhost:8080/"
        },
        "id": "xk8f21L21sMC",
        "outputId": "290fa077-b8d9-409b-dcd5-bc8ef0e7e8cc"
      },
      "source": [
        "search.fit(X_train, y_train)"
      ],
      "execution_count": null,
      "outputs": [
        {
          "output_type": "execute_result",
          "data": {
            "text/plain": [
              "RandomizedSearchCV(cv=None, error_score=nan,\n",
              "                   estimator=RandomForestRegressor(bootstrap=True,\n",
              "                                                   ccp_alpha=0.0,\n",
              "                                                   criterion='mse',\n",
              "                                                   max_depth=None,\n",
              "                                                   max_features='auto',\n",
              "                                                   max_leaf_nodes=None,\n",
              "                                                   max_samples=None,\n",
              "                                                   min_impurity_decrease=0.0,\n",
              "                                                   min_impurity_split=None,\n",
              "                                                   min_samples_leaf=1,\n",
              "                                                   min_samples_split=2,\n",
              "                                                   min_weight_fraction_leaf=0.0,\n",
              "                                                   n_estimators=100,\n",
              "                                                   n_jobs=None, oob_score=F...\n",
              "                                                   random_state=0, verbose=0,\n",
              "                                                   warm_start=False),\n",
              "                   iid='deprecated', n_iter=5, n_jobs=None,\n",
              "                   param_distributions={'max_depth': <scipy.stats._distn_infrastructure.rv_frozen object at 0x7f5e52288dd0>,\n",
              "                                        'n_estimators': <scipy.stats._distn_infrastructure.rv_frozen object at 0x7f5e52288110>},\n",
              "                   pre_dispatch='2*n_jobs', random_state=0, refit=True,\n",
              "                   return_train_score=False, scoring=None, verbose=0)"
            ]
          },
          "metadata": {
            "tags": []
          },
          "execution_count": 74
        }
      ]
    },
    {
      "cell_type": "code",
      "metadata": {
        "colab": {
          "base_uri": "https://localhost:8080/"
        },
        "id": "00nGiN6X1vlr",
        "outputId": "f2e15411-419e-4c2e-9fd5-6a82bac2e93b"
      },
      "source": [
        "search.best_params_"
      ],
      "execution_count": null,
      "outputs": [
        {
          "output_type": "execute_result",
          "data": {
            "text/plain": [
              "{'max_depth': 9, 'n_estimators': 4}"
            ]
          },
          "metadata": {
            "tags": []
          },
          "execution_count": 75
        }
      ]
    },
    {
      "cell_type": "code",
      "metadata": {
        "colab": {
          "base_uri": "https://localhost:8080/"
        },
        "id": "po99B7Kq3qxq",
        "outputId": "2a4a661a-b930-43f8-8b98-c2585f52b4b6"
      },
      "source": [
        "search.score(X_test, y_test)"
      ],
      "execution_count": null,
      "outputs": [
        {
          "output_type": "execute_result",
          "data": {
            "text/plain": [
              "0.7349601117850644"
            ]
          },
          "metadata": {
            "tags": []
          },
          "execution_count": 76
        }
      ]
    }
  ]
}